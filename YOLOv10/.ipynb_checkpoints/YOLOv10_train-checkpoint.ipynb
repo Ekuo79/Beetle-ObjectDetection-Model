{
 "cells": [
  {
   "cell_type": "code",
   "execution_count": 1,
   "id": "f3966752-ee05-4706-b9f5-072170ae527e",
   "metadata": {
    "tags": []
   },
   "outputs": [],
   "source": [
    "from ultralytics import YOLO\n",
    "import os"
   ]
  },
  {
   "cell_type": "code",
   "execution_count": 2,
   "id": "c37a1b92-b93f-4c32-962f-3c683bdd292e",
   "metadata": {},
   "outputs": [],
   "source": [
    "model = YOLO(\"yolov10x.pt\")"
   ]
  },
  {
   "cell_type": "code",
   "execution_count": null,
   "id": "7539a407-5d9e-4ed5-aaf2-32f51aea6fdb",
   "metadata": {},
   "outputs": [
    {
     "name": "stdout",
     "output_type": "stream",
     "text": [
      "New https://pypi.org/project/ultralytics/8.2.87 available 😃 Update with 'pip install -U ultralytics'\n",
      "Ultralytics YOLOv8.2.70 🚀 Python-3.11.9 torch-2.4.0 CUDA:0 (NVIDIA A100-SXM4-80GB, 81038MiB)\n",
      "                                                     CUDA:2 (NVIDIA A100-SXM4-80GB, 81038MiB)\n",
      "\u001b[34m\u001b[1mengine/trainer: \u001b[0mtask=detect, mode=train, model=yolov10x.pt, data=data.yaml, epochs=100, time=None, patience=100, batch=32, imgsz=640, save=True, save_period=-1, cache=disk, device=[0, 2], workers=8, project=None, name=train3, exist_ok=False, pretrained=True, optimizer=auto, verbose=True, seed=0, deterministic=True, single_cls=False, rect=False, cos_lr=False, close_mosaic=10, resume=False, amp=True, fraction=1.0, profile=False, freeze=None, multi_scale=False, overlap_mask=True, mask_ratio=4, dropout=0.0, val=True, split=val, save_json=False, save_hybrid=False, conf=None, iou=0.7, max_det=300, half=False, dnn=False, plots=True, source=None, vid_stride=1, stream_buffer=False, visualize=False, augment=False, agnostic_nms=False, classes=None, retina_masks=False, embed=None, show=False, save_frames=False, save_txt=False, save_conf=False, save_crop=False, show_labels=True, show_conf=True, show_boxes=True, line_width=None, format=torchscript, keras=False, optimize=False, int8=False, dynamic=False, simplify=False, opset=None, workspace=4, nms=False, lr0=0.01, lrf=0.01, momentum=0.937, weight_decay=0.0005, warmup_epochs=3.0, warmup_momentum=0.8, warmup_bias_lr=0.1, box=7.5, cls=0.5, dfl=1.5, pose=12.0, kobj=1.0, label_smoothing=0.0, nbs=64, hsv_h=0.015, hsv_s=0.7, hsv_v=0.4, degrees=0.0, translate=0.1, scale=0.5, shear=0.0, perspective=0.0, flipud=0.0, fliplr=0.5, bgr=0.0, mosaic=1.0, mixup=0.0, copy_paste=0.0, auto_augment=randaugment, erasing=0.4, crop_fraction=1.0, cfg=None, tracker=botsort.yaml, save_dir=runs/detect/train3\n",
      "Overriding model.yaml nc=80 with nc=1\n",
      "\n",
      "                   from  n    params  module                                       arguments                     \n",
      "  0                  -1  1      2320  ultralytics.nn.modules.conv.Conv             [3, 80, 3, 2]                 \n",
      "  1                  -1  1    115520  ultralytics.nn.modules.conv.Conv             [80, 160, 3, 2]               \n",
      "  2                  -1  3    436800  ultralytics.nn.modules.block.C2f             [160, 160, 3, True]           \n",
      "  3                  -1  1    461440  ultralytics.nn.modules.conv.Conv             [160, 320, 3, 2]              \n",
      "  4                  -1  6   3281920  ultralytics.nn.modules.block.C2f             [320, 320, 6, True]           \n",
      "  5                  -1  1    213120  ultralytics.nn.modules.block.SCDown          [320, 640, 3, 2]              \n",
      "  6                  -1  6   4604160  ultralytics.nn.modules.block.C2fCIB          [640, 640, 6, True]           \n",
      "  7                  -1  1    417920  ultralytics.nn.modules.block.SCDown          [640, 640, 3, 2]              \n",
      "  8                  -1  3   2712960  ultralytics.nn.modules.block.C2fCIB          [640, 640, 3, True]           \n",
      "  9                  -1  1   1025920  ultralytics.nn.modules.block.SPPF            [640, 640, 5]                 \n",
      " 10                  -1  1   1545920  ultralytics.nn.modules.block.PSA             [640, 640]                    \n",
      " 11                  -1  1         0  torch.nn.modules.upsampling.Upsample         [None, 2, 'nearest']          \n",
      " 12             [-1, 6]  1         0  ultralytics.nn.modules.conv.Concat           [1]                           \n",
      " 13                  -1  3   3122560  ultralytics.nn.modules.block.C2fCIB          [1280, 640, 3, True]          \n",
      " 14                  -1  1         0  torch.nn.modules.upsampling.Upsample         [None, 2, 'nearest']          \n",
      " 15             [-1, 4]  1         0  ultralytics.nn.modules.conv.Concat           [1]                           \n",
      " 16                  -1  3   1948800  ultralytics.nn.modules.block.C2f             [960, 320, 3]                 \n",
      " 17                  -1  1    922240  ultralytics.nn.modules.conv.Conv             [320, 320, 3, 2]              \n",
      " 18            [-1, 13]  1         0  ultralytics.nn.modules.conv.Concat           [1]                           \n",
      " 19                  -1  3   2917760  ultralytics.nn.modules.block.C2fCIB          [960, 640, 3, True]           \n",
      " 20                  -1  1    417920  ultralytics.nn.modules.block.SCDown          [640, 640, 3, 2]              \n",
      " 21            [-1, 10]  1         0  ultralytics.nn.modules.conv.Concat           [1]                           \n",
      " 22                  -1  3   3122560  ultralytics.nn.modules.block.C2fCIB          [1280, 640, 3, True]          \n",
      " 23        [16, 19, 22]  1   4386966  ultralytics.nn.modules.head.v10Detect        [1, [320, 640, 640]]          \n",
      "YOLOv10x summary: 688 layers, 31,656,806 parameters, 31,656,790 gradients\n",
      "\n",
      "Transferred 1123/1135 items from pretrained weights\n",
      "\u001b[34m\u001b[1mDDP:\u001b[0m debug command /blue/hulcr/eric.kuo/conda/envs/YOLO10/bin/python -m torch.distributed.run --nproc_per_node 2 --master_port 60873 /home/eric.kuo/.config/Ultralytics/DDP/_temp_wlexy0sd23261702643152.py\n",
      "Ultralytics YOLOv8.2.70 🚀 Python-3.11.9 torch-2.4.0 CUDA:0 (NVIDIA A100-SXM4-80GB, 81038MiB)\n",
      "                                                     CUDA:2 (NVIDIA A100-SXM4-80GB, 81038MiB)\n",
      "Overriding model.yaml nc=80 with nc=1\n",
      "Transferred 1123/1135 items from pretrained weights\n",
      "Freezing layer 'model.23.dfl.conv.weight'\n",
      "\u001b[34m\u001b[1mAMP: \u001b[0mrunning Automatic Mixed Precision (AMP) checks with YOLOv8n...\n",
      "WARNING ⚠️ NMS time limit 2.050s exceeded\n",
      "\u001b[34m\u001b[1mAMP: \u001b[0mchecks passed ✅\n"
     ]
    },
    {
     "name": "stderr",
     "output_type": "stream",
     "text": [
      "/blue/hulcr/eric.kuo/conda/envs/YOLO10/lib/python3.11/site-packages/ultralytics/engine/trainer.py:268: FutureWarning: `torch.cuda.amp.GradScaler(args...)` is deprecated. Please use `torch.amp.GradScaler('cuda', args...)` instead.\n",
      "  self.scaler = torch.cuda.amp.GradScaler(enabled=self.amp)\n",
      "/blue/hulcr/eric.kuo/conda/envs/YOLO10/lib/python3.11/site-packages/ultralytics/engine/trainer.py:268: FutureWarning: `torch.cuda.amp.GradScaler(args...)` is deprecated. Please use `torch.amp.GradScaler('cuda', args...)` instead.\n",
      "  self.scaler = torch.cuda.amp.GradScaler(enabled=self.amp)\n",
      "\u001b[34m\u001b[1mtrain: \u001b[0mScanning /blue/hulcr/share/eric.kuo/Beetle_classifier/Data/00_Preprocessed_composite_images/train/labels/0_Unknown.cache... 56610 images, 1239 backgrounds, 4 corrupt: 100%|██████████| 56614/56614 [00:00<?, ?it/s]\n"
     ]
    },
    {
     "name": "stdout",
     "output_type": "stream",
     "text": [
      "\u001b[34m\u001b[1mtrain: \u001b[0mWARNING ⚠️ /blue/hulcr/share/eric.kuo/Beetle_classifier/Data/00_Preprocessed_composite_images/train/images/0_Unknown/139e1cc74c2bec9084204ecdf79c4cf5.png: ignoring corrupt image/label: Image size (261150375 pixels) exceeds limit of 178956970 pixels, could be decompression bomb DOS attack.\n",
      "\u001b[34m\u001b[1mtrain: \u001b[0mWARNING ⚠️ /blue/hulcr/share/eric.kuo/Beetle_classifier/Data/00_Preprocessed_composite_images/train/images/0_Unknown/3f5405046e601f90f613687d81b99c02.png: ignoring corrupt image/label: Image size (200873929 pixels) exceeds limit of 178956970 pixels, could be decompression bomb DOS attack.\n",
      "\u001b[34m\u001b[1mtrain: \u001b[0mWARNING ⚠️ /blue/hulcr/share/eric.kuo/Beetle_classifier/Data/00_Preprocessed_composite_images/train/images/0_Unknown/878cd5d10f030a887f20a5e2fb782f45.png: ignoring corrupt image/label: Image size (228831264 pixels) exceeds limit of 178956970 pixels, could be decompression bomb DOS attack.\n",
      "\u001b[34m\u001b[1mtrain: \u001b[0mWARNING ⚠️ /blue/hulcr/share/eric.kuo/Beetle_classifier/Data/00_Preprocessed_composite_images/train/images/0_Unknown/b559392f603d6fea3d046ef48e322b77.png: ignoring corrupt image/label: Image size (228831264 pixels) exceeds limit of 178956970 pixels, could be decompression bomb DOS attack.\n"
     ]
    },
    {
     "name": "stderr",
     "output_type": "stream",
     "text": [
      "\u001b[34m\u001b[1mtrain: \u001b[0mCaching images (996.2GB Disk): 100%|██████████| 56610/56610 [00:04<00:00, 12690.43it/s]\n",
      "\u001b[34m\u001b[1mval: \u001b[0mScanning /blue/hulcr/share/eric.kuo/Beetle_classifier/Data/00_Preprocessed_composite_images/val/labels.cache... 186 images, 6 backgrounds, 0 corrupt: 100%|██████████| 186/186 [00:00<?, ?it/s]\n",
      "\u001b[34m\u001b[1mval: \u001b[0mCaching images (4.4GB Disk): 100%|██████████| 186/186 [00:00<00:00, 14042.42it/s]\n",
      "/blue/hulcr/eric.kuo/conda/envs/YOLO10/lib/python3.11/site-packages/torch/utils/data/dataloader.py:557: UserWarning: This DataLoader will create 16 worker processes in total. Our suggested max number of worker in current system is 8, which is smaller than what this DataLoader is going to create. Please be aware that excessive worker creation might get DataLoader running slow or even freeze, lower the worker number to avoid potential slowness/freeze if necessary.\n",
      "  warnings.warn(_create_warning_msg(\n"
     ]
    },
    {
     "name": "stdout",
     "output_type": "stream",
     "text": [
      "Plotting labels to runs/detect/train3/labels.jpg... \n",
      "\u001b[34m\u001b[1moptimizer:\u001b[0m 'optimizer=auto' found, ignoring 'lr0=0.01' and 'momentum=0.937' and determining best 'optimizer', 'lr0' and 'momentum' automatically... \n",
      "\u001b[34m\u001b[1moptimizer:\u001b[0m SGD(lr=0.01, momentum=0.9) with parameter groups 185 weight(decay=0.0), 198 weight(decay=0.0005), 197 bias(decay=0.0)\n",
      "Image sizes 640 train, 640 val\n",
      "Using 16 dataloader workers\n",
      "Logging results to \u001b[1mruns/detect/train3\u001b[0m\n",
      "Starting training for 100 epochs...\n",
      "\n",
      "      Epoch    GPU_mem   box_loss   cls_loss   dfl_loss  Instances       Size\n"
     ]
    },
    {
     "name": "stderr",
     "output_type": "stream",
     "text": [
      "      1/100      18.2G      1.189      2.736      2.165         94        640:  12%|█▏        | 218/1770 [02:11<08:10,  3.17it/s] W0903 22:36:18.447000 22731169793856 torch/distributed/elastic/agent/server/api.py:688] Received 2 death signal, shutting down workers\n",
      "W0903 22:36:18.447000 22731169793856 torch/distributed/elastic/multiprocessing/api.py:858] Sending process 2270818 closing signal SIGINT\n",
      "      1/100      18.2G      1.189      2.736      2.165         94        640:  12%|█▏        | 218/1770 [02:11<15:35,  1.66it/s]\n",
      "W0903 22:36:18.538000 22731169793856 torch/distributed/elastic/multiprocessing/api.py:858] Sending process 2270819 closing signal SIGINT\n",
      "[rank0]: Traceback (most recent call last):\n",
      "[rank0]:   File \"/home/eric.kuo/.config/Ultralytics/DDP/_temp_wlexy0sd23261702643152.py\", line 13, in <module>\n",
      "[rank0]:     results = trainer.train()\n",
      "[rank0]:               ^^^^^^^^^^^^^^^\n",
      "[rank0]:   File \"/blue/hulcr/eric.kuo/conda/envs/YOLO10/lib/python3.11/site-packages/ultralytics/engine/trainer.py\", line 205, in train\n",
      "[rank0]:     self._do_train(world_size)\n",
      "[rank0]:   File \"/blue/hulcr/eric.kuo/conda/envs/YOLO10/lib/python3.11/site-packages/ultralytics/engine/trainer.py\", line 390, in _do_train\n",
      "[rank0]:     self.scaler.scale(self.loss).backward()\n",
      "[rank0]:   File \"/blue/hulcr/eric.kuo/conda/envs/YOLO10/lib/python3.11/site-packages/torch/_tensor.py\", line 521, in backward\n",
      "[rank0]:     torch.autograd.backward(\n",
      "[rank0]:   File \"/blue/hulcr/eric.kuo/conda/envs/YOLO10/lib/python3.11/site-packages/torch/autograd/__init__.py\", line 289, in backward\n",
      "[rank0]:     _engine_run_backward(\n",
      "[rank0]:   File \"/blue/hulcr/eric.kuo/conda/envs/YOLO10/lib/python3.11/site-packages/torch/autograd/graph.py\", line 768, in _engine_run_backward\n",
      "[rank0]:     return Variable._execution_engine.run_backward(  # Calls into the C++ engine to run the backward pass\n",
      "[rank0]:            ^^^^^^^^^^^^^^^^^^^^^^^^^^^^^^^^^^^^^^^^^^^^^^^^^^^^^^^^^^^^^^^^^^^^^^^^^^^^^^^^^^^^^^^^^^^^^^\n",
      "[rank0]: KeyboardInterrupt\n",
      "W0903 22:36:18.592000 22731169793856 torch/distributed/elastic/multiprocessing/api.py:858] Sending process 2270818 closing signal SIGTERM\n",
      "W0903 22:36:18.592000 22731169793856 torch/distributed/elastic/multiprocessing/api.py:858] Sending process 2270819 closing signal SIGTERM\n",
      "Traceback (most recent call last):\n",
      "  File \"/blue/hulcr/eric.kuo/conda/envs/YOLO10/lib/python3.11/site-packages/torch/distributed/elastic/agent/server/api.py\", line 680, in run\n",
      "    result = self._invoke_run(role)\n",
      "             ^^^^^^^^^^^^^^^^^^^^^^\n",
      "  File \"/blue/hulcr/eric.kuo/conda/envs/YOLO10/lib/python3.11/site-packages/torch/distributed/elastic/agent/server/api.py\", line 835, in _invoke_run\n",
      "    time.sleep(monitor_interval)\n",
      "  File \"/blue/hulcr/eric.kuo/conda/envs/YOLO10/lib/python3.11/site-packages/torch/distributed/elastic/multiprocessing/api.py\", line 79, in _terminate_process_handler\n",
      "    raise SignalException(f\"Process {os.getpid()} got signal: {sigval}\", sigval=sigval)\n",
      "torch.distributed.elastic.multiprocessing.api.SignalException: Process 2270763 got signal: 2\n",
      "\n",
      "During handling of the above exception, another exception occurred:\n",
      "\n",
      "Traceback (most recent call last):\n",
      "  File \"/blue/hulcr/eric.kuo/conda/envs/YOLO10/lib/python3.11/site-packages/torch/distributed/elastic/agent/server/api.py\", line 689, in run\n",
      "    self._shutdown(e.sigval)\n",
      "  File \"/blue/hulcr/eric.kuo/conda/envs/YOLO10/lib/python3.11/site-packages/torch/distributed/elastic/agent/server/local_elastic_agent.py\", line 347, in _shutdown\n",
      "    self._pcontext.close(death_sig)\n",
      "  File \"/blue/hulcr/eric.kuo/conda/envs/YOLO10/lib/python3.11/site-packages/torch/distributed/elastic/multiprocessing/api.py\", line 544, in close\n",
      "    self._close(death_sig=death_sig, timeout=timeout)\n",
      "  File \"/blue/hulcr/eric.kuo/conda/envs/YOLO10/lib/python3.11/site-packages/torch/distributed/elastic/multiprocessing/api.py\", line 868, in _close\n",
      "    handler.proc.wait(time_to_wait)\n",
      "  File \"/blue/hulcr/eric.kuo/conda/envs/YOLO10/lib/python3.11/subprocess.py\", line 1264, in wait\n",
      "    return self._wait(timeout=timeout)\n",
      "           ^^^^^^^^^^^^^^^^^^^^^^^^^^^\n",
      "  File \"/blue/hulcr/eric.kuo/conda/envs/YOLO10/lib/python3.11/subprocess.py\", line 2047, in _wait\n",
      "    time.sleep(delay)\n",
      "  File \"/blue/hulcr/eric.kuo/conda/envs/YOLO10/lib/python3.11/site-packages/torch/distributed/elastic/multiprocessing/api.py\", line 79, in _terminate_process_handler\n",
      "    raise SignalException(f\"Process {os.getpid()} got signal: {sigval}\", sigval=sigval)\n",
      "torch.distributed.elastic.multiprocessing.api.SignalException: Process 2270763 got signal: 15\n",
      "\n",
      "During handling of the above exception, another exception occurred:\n",
      "\n",
      "Traceback (most recent call last):\n",
      "  File \"<frozen runpy>\", line 198, in _run_module_as_main\n",
      "  File \"<frozen runpy>\", line 88, in _run_code\n",
      "  File \"/blue/hulcr/eric.kuo/conda/envs/YOLO10/lib/python3.11/site-packages/torch/distributed/run.py\", line 905, in <module>\n",
      "    main()\n",
      "  File \"/blue/hulcr/eric.kuo/conda/envs/YOLO10/lib/python3.11/site-packages/torch/distributed/elastic/multiprocessing/errors/__init__.py\", line 348, in wrapper\n",
      "    return f(*args, **kwargs)\n",
      "           ^^^^^^^^^^^^^^^^^^\n",
      "  File \"/blue/hulcr/eric.kuo/conda/envs/YOLO10/lib/python3.11/site-packages/torch/distributed/run.py\", line 901, in main\n",
      "    run(args)\n",
      "  File \"/blue/hulcr/eric.kuo/conda/envs/YOLO10/lib/python3.11/site-packages/torch/distributed/run.py\", line 892, in run\n",
      "    elastic_launch(\n",
      "  File \"/blue/hulcr/eric.kuo/conda/envs/YOLO10/lib/python3.11/site-packages/torch/distributed/launcher/api.py\", line 133, in __call__\n",
      "    return launch_agent(self._config, self._entrypoint, list(args))\n",
      "           ^^^^^^^^^^^^^^^^^^^^^^^^^^^^^^^^^^^^^^^^^^^^^^^^^^^^^^^^\n",
      "  File \"/blue/hulcr/eric.kuo/conda/envs/YOLO10/lib/python3.11/site-packages/torch/distributed/launcher/api.py\", line 255, in launch_agent\n",
      "    result = agent.run()\n",
      "             ^^^^^^^^^^^\n",
      "  File \"/blue/hulcr/eric.kuo/conda/envs/YOLO10/lib/python3.11/site-packages/torch/distributed/elastic/metrics/api.py\", line 124, in wrapper\n",
      "    result = f(*args, **kwargs)\n",
      "             ^^^^^^^^^^^^^^^^^^\n",
      "  File \"/blue/hulcr/eric.kuo/conda/envs/YOLO10/lib/python3.11/site-packages/torch/distributed/elastic/agent/server/api.py\", line 694, in run\n",
      "    self._shutdown()\n",
      "  File \"/blue/hulcr/eric.kuo/conda/envs/YOLO10/lib/python3.11/site-packages/torch/distributed/elastic/agent/server/local_elastic_agent.py\", line 347, in _shutdown\n",
      "    self._pcontext.close(death_sig)\n",
      "  File \"/blue/hulcr/eric.kuo/conda/envs/YOLO10/lib/python3.11/site-packages/torch/distributed/elastic/multiprocessing/api.py\", line 544, in close\n",
      "    self._close(death_sig=death_sig, timeout=timeout)\n",
      "  File \"/blue/hulcr/eric.kuo/conda/envs/YOLO10/lib/python3.11/site-packages/torch/distributed/elastic/multiprocessing/api.py\", line 868, in _close\n",
      "    handler.proc.wait(time_to_wait)\n",
      "  File \"/blue/hulcr/eric.kuo/conda/envs/YOLO10/lib/python3.11/subprocess.py\", line 1264, in wait\n",
      "    return self._wait(timeout=timeout)\n",
      "           ^^^^^^^^^^^^^^^^^^^^^^^^^^^\n",
      "  File \"/blue/hulcr/eric.kuo/conda/envs/YOLO10/lib/python3.11/subprocess.py\", line 2047, in _wait\n",
      "    time.sleep(delay)\n",
      "  File \"/blue/hulcr/eric.kuo/conda/envs/YOLO10/lib/python3.11/site-packages/torch/distributed/elastic/multiprocessing/api.py\", line 79, in _terminate_process_handler\n",
      "    raise SignalException(f\"Process {os.getpid()} got signal: {sigval}\", sigval=sigval)\n",
      "torch.distributed.elastic.multiprocessing.api.SignalException: Process 2270763 got signal: 15\n"
     ]
    },
    {
     "ename": "KeyboardInterrupt",
     "evalue": "",
     "output_type": "error",
     "traceback": [
      "\u001b[0;31m---------------------------------------------------------------------------\u001b[0m",
      "\u001b[0;31mKeyboardInterrupt\u001b[0m                         Traceback (most recent call last)",
      "Cell \u001b[0;32mIn[3], line 1\u001b[0m\n\u001b[0;32m----> 1\u001b[0m results \u001b[38;5;241m=\u001b[39m \u001b[43mmodel\u001b[49m\u001b[38;5;241;43m.\u001b[39;49m\u001b[43mtrain\u001b[49m\u001b[43m(\u001b[49m\u001b[43mdata\u001b[49m\u001b[38;5;241;43m=\u001b[39;49m\u001b[38;5;124;43m\"\u001b[39;49m\u001b[38;5;124;43mdata.yaml\u001b[39;49m\u001b[38;5;124;43m\"\u001b[39;49m\u001b[43m,\u001b[49m\u001b[43m \u001b[49m\u001b[43mdevice\u001b[49m\u001b[38;5;241;43m=\u001b[39;49m\u001b[43m[\u001b[49m\u001b[38;5;241;43m0\u001b[39;49m\u001b[43m,\u001b[49m\u001b[38;5;241;43m2\u001b[39;49m\u001b[43m]\u001b[49m\u001b[43m,\u001b[49m\u001b[43m \u001b[49m\u001b[43mbatch\u001b[49m\u001b[38;5;241;43m=\u001b[39;49m\u001b[38;5;241;43m32\u001b[39;49m\u001b[43m,\u001b[49m\u001b[43m \u001b[49m\u001b[43mepochs\u001b[49m\u001b[38;5;241;43m=\u001b[39;49m\u001b[38;5;241;43m100\u001b[39;49m\u001b[43m,\u001b[49m\u001b[43m \u001b[49m\u001b[43mworkers\u001b[49m\u001b[38;5;241;43m=\u001b[39;49m\u001b[38;5;241;43m8\u001b[39;49m\u001b[43m,\u001b[49m\u001b[43m \u001b[49m\u001b[43mcache\u001b[49m\u001b[38;5;241;43m=\u001b[39;49m\u001b[38;5;124;43m'\u001b[39;49m\u001b[38;5;124;43mdisk\u001b[39;49m\u001b[38;5;124;43m'\u001b[39;49m\u001b[43m)\u001b[49m\n",
      "File \u001b[0;32m/blue/hulcr/eric.kuo/conda/envs/YOLO10/lib/python3.11/site-packages/ultralytics/engine/model.py:811\u001b[0m, in \u001b[0;36mModel.train\u001b[0;34m(self, trainer, **kwargs)\u001b[0m\n\u001b[1;32m    808\u001b[0m     \u001b[38;5;28mself\u001b[39m\u001b[38;5;241m.\u001b[39mmodel \u001b[38;5;241m=\u001b[39m \u001b[38;5;28mself\u001b[39m\u001b[38;5;241m.\u001b[39mtrainer\u001b[38;5;241m.\u001b[39mmodel\n\u001b[1;32m    810\u001b[0m \u001b[38;5;28mself\u001b[39m\u001b[38;5;241m.\u001b[39mtrainer\u001b[38;5;241m.\u001b[39mhub_session \u001b[38;5;241m=\u001b[39m \u001b[38;5;28mself\u001b[39m\u001b[38;5;241m.\u001b[39msession  \u001b[38;5;66;03m# attach optional HUB session\u001b[39;00m\n\u001b[0;32m--> 811\u001b[0m \u001b[38;5;28;43mself\u001b[39;49m\u001b[38;5;241;43m.\u001b[39;49m\u001b[43mtrainer\u001b[49m\u001b[38;5;241;43m.\u001b[39;49m\u001b[43mtrain\u001b[49m\u001b[43m(\u001b[49m\u001b[43m)\u001b[49m\n\u001b[1;32m    812\u001b[0m \u001b[38;5;66;03m# Update model and cfg after training\u001b[39;00m\n\u001b[1;32m    813\u001b[0m \u001b[38;5;28;01mif\u001b[39;00m RANK \u001b[38;5;129;01min\u001b[39;00m {\u001b[38;5;241m-\u001b[39m\u001b[38;5;241m1\u001b[39m, \u001b[38;5;241m0\u001b[39m}:\n",
      "File \u001b[0;32m/blue/hulcr/eric.kuo/conda/envs/YOLO10/lib/python3.11/site-packages/ultralytics/engine/trainer.py:198\u001b[0m, in \u001b[0;36mBaseTrainer.train\u001b[0;34m(self)\u001b[0m\n\u001b[1;32m    196\u001b[0m \u001b[38;5;28;01mtry\u001b[39;00m:\n\u001b[1;32m    197\u001b[0m     LOGGER\u001b[38;5;241m.\u001b[39minfo(\u001b[38;5;124mf\u001b[39m\u001b[38;5;124m'\u001b[39m\u001b[38;5;132;01m{\u001b[39;00mcolorstr(\u001b[38;5;124m\"\u001b[39m\u001b[38;5;124mDDP:\u001b[39m\u001b[38;5;124m\"\u001b[39m)\u001b[38;5;132;01m}\u001b[39;00m\u001b[38;5;124m debug command \u001b[39m\u001b[38;5;132;01m{\u001b[39;00m\u001b[38;5;124m\"\u001b[39m\u001b[38;5;124m \u001b[39m\u001b[38;5;124m\"\u001b[39m\u001b[38;5;241m.\u001b[39mjoin(cmd)\u001b[38;5;132;01m}\u001b[39;00m\u001b[38;5;124m'\u001b[39m)\n\u001b[0;32m--> 198\u001b[0m     \u001b[43msubprocess\u001b[49m\u001b[38;5;241;43m.\u001b[39;49m\u001b[43mrun\u001b[49m\u001b[43m(\u001b[49m\u001b[43mcmd\u001b[49m\u001b[43m,\u001b[49m\u001b[43m \u001b[49m\u001b[43mcheck\u001b[49m\u001b[38;5;241;43m=\u001b[39;49m\u001b[38;5;28;43;01mTrue\u001b[39;49;00m\u001b[43m)\u001b[49m\n\u001b[1;32m    199\u001b[0m \u001b[38;5;28;01mexcept\u001b[39;00m \u001b[38;5;167;01mException\u001b[39;00m \u001b[38;5;28;01mas\u001b[39;00m e:\n\u001b[1;32m    200\u001b[0m     \u001b[38;5;28;01mraise\u001b[39;00m e\n",
      "File \u001b[0;32m/blue/hulcr/eric.kuo/conda/envs/YOLO10/lib/python3.11/subprocess.py:550\u001b[0m, in \u001b[0;36mrun\u001b[0;34m(input, capture_output, timeout, check, *popenargs, **kwargs)\u001b[0m\n\u001b[1;32m    548\u001b[0m \u001b[38;5;28;01mwith\u001b[39;00m Popen(\u001b[38;5;241m*\u001b[39mpopenargs, \u001b[38;5;241m*\u001b[39m\u001b[38;5;241m*\u001b[39mkwargs) \u001b[38;5;28;01mas\u001b[39;00m process:\n\u001b[1;32m    549\u001b[0m     \u001b[38;5;28;01mtry\u001b[39;00m:\n\u001b[0;32m--> 550\u001b[0m         stdout, stderr \u001b[38;5;241m=\u001b[39m \u001b[43mprocess\u001b[49m\u001b[38;5;241;43m.\u001b[39;49m\u001b[43mcommunicate\u001b[49m\u001b[43m(\u001b[49m\u001b[38;5;28;43minput\u001b[39;49m\u001b[43m,\u001b[49m\u001b[43m \u001b[49m\u001b[43mtimeout\u001b[49m\u001b[38;5;241;43m=\u001b[39;49m\u001b[43mtimeout\u001b[49m\u001b[43m)\u001b[49m\n\u001b[1;32m    551\u001b[0m     \u001b[38;5;28;01mexcept\u001b[39;00m TimeoutExpired \u001b[38;5;28;01mas\u001b[39;00m exc:\n\u001b[1;32m    552\u001b[0m         process\u001b[38;5;241m.\u001b[39mkill()\n",
      "File \u001b[0;32m/blue/hulcr/eric.kuo/conda/envs/YOLO10/lib/python3.11/subprocess.py:1201\u001b[0m, in \u001b[0;36mPopen.communicate\u001b[0;34m(self, input, timeout)\u001b[0m\n\u001b[1;32m   1199\u001b[0m         stderr \u001b[38;5;241m=\u001b[39m \u001b[38;5;28mself\u001b[39m\u001b[38;5;241m.\u001b[39mstderr\u001b[38;5;241m.\u001b[39mread()\n\u001b[1;32m   1200\u001b[0m         \u001b[38;5;28mself\u001b[39m\u001b[38;5;241m.\u001b[39mstderr\u001b[38;5;241m.\u001b[39mclose()\n\u001b[0;32m-> 1201\u001b[0m     \u001b[38;5;28;43mself\u001b[39;49m\u001b[38;5;241;43m.\u001b[39;49m\u001b[43mwait\u001b[49m\u001b[43m(\u001b[49m\u001b[43m)\u001b[49m\n\u001b[1;32m   1202\u001b[0m \u001b[38;5;28;01melse\u001b[39;00m:\n\u001b[1;32m   1203\u001b[0m     \u001b[38;5;28;01mif\u001b[39;00m timeout \u001b[38;5;129;01mis\u001b[39;00m \u001b[38;5;129;01mnot\u001b[39;00m \u001b[38;5;28;01mNone\u001b[39;00m:\n",
      "File \u001b[0;32m/blue/hulcr/eric.kuo/conda/envs/YOLO10/lib/python3.11/subprocess.py:1264\u001b[0m, in \u001b[0;36mPopen.wait\u001b[0;34m(self, timeout)\u001b[0m\n\u001b[1;32m   1262\u001b[0m     endtime \u001b[38;5;241m=\u001b[39m _time() \u001b[38;5;241m+\u001b[39m timeout\n\u001b[1;32m   1263\u001b[0m \u001b[38;5;28;01mtry\u001b[39;00m:\n\u001b[0;32m-> 1264\u001b[0m     \u001b[38;5;28;01mreturn\u001b[39;00m \u001b[38;5;28;43mself\u001b[39;49m\u001b[38;5;241;43m.\u001b[39;49m\u001b[43m_wait\u001b[49m\u001b[43m(\u001b[49m\u001b[43mtimeout\u001b[49m\u001b[38;5;241;43m=\u001b[39;49m\u001b[43mtimeout\u001b[49m\u001b[43m)\u001b[49m\n\u001b[1;32m   1265\u001b[0m \u001b[38;5;28;01mexcept\u001b[39;00m \u001b[38;5;167;01mKeyboardInterrupt\u001b[39;00m:\n\u001b[1;32m   1266\u001b[0m     \u001b[38;5;66;03m# https://bugs.python.org/issue25942\u001b[39;00m\n\u001b[1;32m   1267\u001b[0m     \u001b[38;5;66;03m# The first keyboard interrupt waits briefly for the child to\u001b[39;00m\n\u001b[1;32m   1268\u001b[0m     \u001b[38;5;66;03m# exit under the common assumption that it also received the ^C\u001b[39;00m\n\u001b[1;32m   1269\u001b[0m     \u001b[38;5;66;03m# generated SIGINT and will exit rapidly.\u001b[39;00m\n\u001b[1;32m   1270\u001b[0m     \u001b[38;5;28;01mif\u001b[39;00m timeout \u001b[38;5;129;01mis\u001b[39;00m \u001b[38;5;129;01mnot\u001b[39;00m \u001b[38;5;28;01mNone\u001b[39;00m:\n",
      "File \u001b[0;32m/blue/hulcr/eric.kuo/conda/envs/YOLO10/lib/python3.11/subprocess.py:2053\u001b[0m, in \u001b[0;36mPopen._wait\u001b[0;34m(self, timeout)\u001b[0m\n\u001b[1;32m   2051\u001b[0m \u001b[38;5;28;01mif\u001b[39;00m \u001b[38;5;28mself\u001b[39m\u001b[38;5;241m.\u001b[39mreturncode \u001b[38;5;129;01mis\u001b[39;00m \u001b[38;5;129;01mnot\u001b[39;00m \u001b[38;5;28;01mNone\u001b[39;00m:\n\u001b[1;32m   2052\u001b[0m     \u001b[38;5;28;01mbreak\u001b[39;00m  \u001b[38;5;66;03m# Another thread waited.\u001b[39;00m\n\u001b[0;32m-> 2053\u001b[0m (pid, sts) \u001b[38;5;241m=\u001b[39m \u001b[38;5;28;43mself\u001b[39;49m\u001b[38;5;241;43m.\u001b[39;49m\u001b[43m_try_wait\u001b[49m\u001b[43m(\u001b[49m\u001b[38;5;241;43m0\u001b[39;49m\u001b[43m)\u001b[49m\n\u001b[1;32m   2054\u001b[0m \u001b[38;5;66;03m# Check the pid and loop as waitpid has been known to\u001b[39;00m\n\u001b[1;32m   2055\u001b[0m \u001b[38;5;66;03m# return 0 even without WNOHANG in odd situations.\u001b[39;00m\n\u001b[1;32m   2056\u001b[0m \u001b[38;5;66;03m# http://bugs.python.org/issue14396.\u001b[39;00m\n\u001b[1;32m   2057\u001b[0m \u001b[38;5;28;01mif\u001b[39;00m pid \u001b[38;5;241m==\u001b[39m \u001b[38;5;28mself\u001b[39m\u001b[38;5;241m.\u001b[39mpid:\n",
      "File \u001b[0;32m/blue/hulcr/eric.kuo/conda/envs/YOLO10/lib/python3.11/subprocess.py:2011\u001b[0m, in \u001b[0;36mPopen._try_wait\u001b[0;34m(self, wait_flags)\u001b[0m\n\u001b[1;32m   2009\u001b[0m \u001b[38;5;250m\u001b[39m\u001b[38;5;124;03m\"\"\"All callers to this function MUST hold self._waitpid_lock.\"\"\"\u001b[39;00m\n\u001b[1;32m   2010\u001b[0m \u001b[38;5;28;01mtry\u001b[39;00m:\n\u001b[0;32m-> 2011\u001b[0m     (pid, sts) \u001b[38;5;241m=\u001b[39m \u001b[43mos\u001b[49m\u001b[38;5;241;43m.\u001b[39;49m\u001b[43mwaitpid\u001b[49m\u001b[43m(\u001b[49m\u001b[38;5;28;43mself\u001b[39;49m\u001b[38;5;241;43m.\u001b[39;49m\u001b[43mpid\u001b[49m\u001b[43m,\u001b[49m\u001b[43m \u001b[49m\u001b[43mwait_flags\u001b[49m\u001b[43m)\u001b[49m\n\u001b[1;32m   2012\u001b[0m \u001b[38;5;28;01mexcept\u001b[39;00m \u001b[38;5;167;01mChildProcessError\u001b[39;00m:\n\u001b[1;32m   2013\u001b[0m     \u001b[38;5;66;03m# This happens if SIGCLD is set to be ignored or waiting\u001b[39;00m\n\u001b[1;32m   2014\u001b[0m     \u001b[38;5;66;03m# for child processes has otherwise been disabled for our\u001b[39;00m\n\u001b[1;32m   2015\u001b[0m     \u001b[38;5;66;03m# process.  This child is dead, we can't get the status.\u001b[39;00m\n\u001b[1;32m   2016\u001b[0m     pid \u001b[38;5;241m=\u001b[39m \u001b[38;5;28mself\u001b[39m\u001b[38;5;241m.\u001b[39mpid\n",
      "\u001b[0;31mKeyboardInterrupt\u001b[0m: "
     ]
    }
   ],
   "source": [
    "results = model.train(data=\"data.yaml\", device=[0,2], batch=32, epochs=100, workers=8, cache='disk')"
   ]
  },
  {
   "cell_type": "code",
   "execution_count": null,
   "id": "b9f21f66-0e0d-4554-bb6d-084dfdef52f9",
   "metadata": {},
   "outputs": [],
   "source": []
  }
 ],
 "metadata": {
  "kernelspec": {
   "display_name": "YOLO10",
   "language": "python",
   "name": "yolo10"
  },
  "language_info": {
   "codemirror_mode": {
    "name": "ipython",
    "version": 3
   },
   "file_extension": ".py",
   "mimetype": "text/x-python",
   "name": "python",
   "nbconvert_exporter": "python",
   "pygments_lexer": "ipython3",
   "version": "3.11.9"
  }
 },
 "nbformat": 4,
 "nbformat_minor": 5
}
